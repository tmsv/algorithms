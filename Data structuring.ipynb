{
 "cells": [
  {
   "cell_type": "code",
   "execution_count": 1,
   "metadata": {},
   "outputs": [],
   "source": [
    "import pandas as pd\n",
    "import numpy as np"
   ]
  },
  {
   "cell_type": "code",
   "execution_count": 19,
   "metadata": {},
   "outputs": [],
   "source": [
    "#удаление дубликатов\n",
    "df = pd.DataFrame({'A': [999,0,0,0,0,0,1,0,999],\n",
    "                 'B': [999,0,2,3,5,0,2,0,999],\n",
    "                 'C': [999,0,3,4,1,0,2,0,999]})"
   ]
  },
  {
   "cell_type": "code",
   "execution_count": 20,
   "metadata": {},
   "outputs": [
    {
     "name": "stdout",
     "output_type": "stream",
     "text": [
      "     A    B    C\n",
      "0  999  999  999\n",
      "1    0    0    0\n",
      "2    0    2    3\n",
      "3    0    3    4\n",
      "4    0    5    1\n",
      "5    0    0    0\n",
      "6    1    2    2\n",
      "7    0    0    0\n",
      "8  999  999  999 \n",
      "\n"
     ]
    }
   ],
   "source": [
    "print(df, '\\n')"
   ]
  },
  {
   "cell_type": "code",
   "execution_count": 21,
   "metadata": {},
   "outputs": [
    {
     "name": "stdout",
     "output_type": "stream",
     "text": [
      "     A    B    C\n",
      "0  999  999  999\n",
      "1    0    0    0\n",
      "2    0    2    3\n",
      "3    0    3    4\n",
      "4    0    5    1\n",
      "6    1    2    2\n"
     ]
    }
   ],
   "source": [
    "df = df.drop_duplicates()\n",
    "print(df)"
   ]
  },
  {
   "cell_type": "code",
   "execution_count": 34,
   "metadata": {},
   "outputs": [
    {
     "name": "stdout",
     "output_type": "stream",
     "text": [
      "      A   B    C\n",
      "0     0   1  NaN\n",
      "1     0  23    3\n",
      "2     1   3    4\n",
      "3  None   4    1\n"
     ]
    }
   ],
   "source": [
    "# работа с пропусками данных\n",
    "df = pd.DataFrame({'A': [0,0,1,None],\n",
    "                  'B': [1,23,3,4],\n",
    "                  'C': [np.NAN,3,4,1]},\n",
    "                    dtype=int)\n",
    "print(df)"
   ]
  },
  {
   "cell_type": "code",
   "execution_count": 35,
   "metadata": {},
   "outputs": [
    {
     "name": "stdout",
     "output_type": "stream",
     "text": [
      "A    0\n",
      "B    7\n",
      "C    2\n",
      "dtype: int32\n"
     ]
    }
   ],
   "source": [
    "values = pd.Series(df.mean(), dtype=int)\n",
    "print(values)"
   ]
  },
  {
   "cell_type": "code",
   "execution_count": 36,
   "metadata": {},
   "outputs": [],
   "source": [
    "df = df.fillna(values)"
   ]
  },
  {
   "cell_type": "code",
   "execution_count": 37,
   "metadata": {},
   "outputs": [
    {
     "name": "stdout",
     "output_type": "stream",
     "text": [
      "   A   B  C\n",
      "0  0   1  2\n",
      "1  0  23  3\n",
      "2  1   3  4\n",
      "3  0   4  1\n"
     ]
    }
   ],
   "source": [
    "print(df)"
   ]
  },
  {
   "cell_type": "code",
   "execution_count": 39,
   "metadata": {},
   "outputs": [],
   "source": [
    "# реализация стека\n",
    "MyStack = []\n",
    "StackSize = 3"
   ]
  },
  {
   "cell_type": "code",
   "execution_count": 40,
   "metadata": {},
   "outputs": [],
   "source": [
    "def DisplayStack():\n",
    "    print('Сейчас стек содержит:')\n",
    "    for Item in MyStack:\n",
    "        print(Item)"
   ]
  },
  {
   "cell_type": "code",
   "execution_count": 41,
   "metadata": {},
   "outputs": [],
   "source": [
    "def Push(Value):\n",
    "    if len(MyStack) < StackSize:\n",
    "        MyStack.append(Value)\n",
    "    else:\n",
    "        print('Стек заполнен!')"
   ]
  },
  {
   "cell_type": "code",
   "execution_count": 42,
   "metadata": {},
   "outputs": [],
   "source": [
    "def Pop():\n",
    "    if len(MyStack) > 0:\n",
    "        print('Снятие со стека: ', MyStack.pop())\n",
    "    else:\n",
    "        print('Стек пуст.')"
   ]
  },
  {
   "cell_type": "code",
   "execution_count": 50,
   "metadata": {},
   "outputs": [
    {
     "name": "stdout",
     "output_type": "stream",
     "text": [
      "Сейчас стек содержит:\n",
      "1\n",
      "2\n",
      "3\n"
     ]
    }
   ],
   "source": [
    "Push(1)\n",
    "Push(2)\n",
    "Push(3)\n",
    "DisplayStack()"
   ]
  },
  {
   "cell_type": "code",
   "execution_count": 51,
   "metadata": {},
   "outputs": [
    {
     "name": "stdout",
     "output_type": "stream",
     "text": [
      "Стек заполнен!\n",
      "Снятие со стека:  3\n",
      "Сейчас стек содержит:\n",
      "1\n",
      "2\n"
     ]
    }
   ],
   "source": [
    "Push(4)\n",
    "Pop()\n",
    "DisplayStack()"
   ]
  },
  {
   "cell_type": "code",
   "execution_count": 52,
   "metadata": {},
   "outputs": [
    {
     "name": "stdout",
     "output_type": "stream",
     "text": [
      "Сейчас стек содержит:\n",
      "1\n",
      "2\n"
     ]
    }
   ],
   "source": [
    "DisplayStack()"
   ]
  },
  {
   "cell_type": "code",
   "execution_count": 53,
   "metadata": {},
   "outputs": [
    {
     "name": "stdout",
     "output_type": "stream",
     "text": [
      "Снятие со стека:  2\n",
      "Снятие со стека:  1\n",
      "Стек пуст.\n"
     ]
    }
   ],
   "source": [
    "Pop()\n",
    "Pop()\n",
    "Pop()"
   ]
  },
  {
   "cell_type": "code",
   "execution_count": 10,
   "metadata": {},
   "outputs": [
    {
     "name": "stdout",
     "output_type": "stream",
     "text": [
      "Очередь пуста:  True\n",
      "Очередь заполнена:  True\n",
      "Извлечение из очереди:  1\n",
      "Очередь заполнена:  False\n",
      "Извлечение из очереди:  2\n",
      "Извлечение из очереди:  3\n",
      "Очередь пуста:  True\n"
     ]
    }
   ],
   "source": [
    "# работа с очередями\n",
    "import queue\n",
    "\n",
    "MyQueue = queue.Queue(3)\n",
    "\n",
    "print(\"Очередь пуста: \", MyQueue.empty())\n",
    "\n",
    "MyQueue.put(1)\n",
    "MyQueue.put(2)\n",
    "MyQueue.put(3)\n",
    "\n",
    "print('Очередь заполнена: ', MyQueue.full())\n",
    "\n",
    "print('Извлечение из очереди: ', MyQueue.get())\n",
    "print('Очередь заполнена: ', MyQueue.full())\n",
    "\n",
    "print('Извлечение из очереди: ', MyQueue.get())\n",
    "print('Извлечение из очереди: ', MyQueue.get())\n",
    "print('Очередь пуста: ', MyQueue.empty())"
   ]
  },
  {
   "cell_type": "code",
   "execution_count": 16,
   "metadata": {},
   "outputs": [
    {
     "name": "stdout",
     "output_type": "stream",
     "text": [
      "Yellow\n",
      "dict_keys(['Sam', 'Amy', 'Sarah'])\n",
      "Sam предпочитает цвет Blue.\n",
      "Amy предпочитает цвет Red.\n",
      "Sarah предпочитает цвет Yellow.\n",
      "{'Amy': 'Red', 'Sarah': 'Purple', 'Harry': 'Orange'}\n"
     ]
    }
   ],
   "source": [
    "# словари\n",
    "\n",
    "Colors = {\"Sam\": \"Blue\", \"Amy\": \"Red\", \"Sarah\": \"Yellow\"}\n",
    "\n",
    "print(Colors[\"Sarah\"])\n",
    "print(Colors.keys())\n",
    "\n",
    "for Item in Colors.keys():\n",
    "    print(\"{0} предпочитает цвет {1}.\"\n",
    "          .format(Item, Colors[Item]))\n",
    "    \n",
    "Colors[\"Sarah\"] = \"Purple\"\n",
    "Colors.update({\"Harry\": \"Orange\"})\n",
    "del Colors[\"Sam\"]\n",
    "\n",
    "print(Colors)"
   ]
  }
 ],
 "metadata": {
  "kernelspec": {
   "display_name": "Python 3",
   "language": "python",
   "name": "python3"
  },
  "language_info": {
   "codemirror_mode": {
    "name": "ipython",
    "version": 3
   },
   "file_extension": ".py",
   "mimetype": "text/x-python",
   "name": "python",
   "nbconvert_exporter": "python",
   "pygments_lexer": "ipython3",
   "version": "3.7.4"
  }
 },
 "nbformat": 4,
 "nbformat_minor": 2
}
